{
 "cells": [
  {
   "cell_type": "code",
   "execution_count": 10,
   "metadata": {},
   "outputs": [],
   "source": [
    "from typing import Callable\n",
    "import numpy as np\n",
    "\n",
    "################################################################\n",
    "# this notebook parses the metacyc pgdb flatfiles\n",
    "# into more usable numpy dictionaries\n",
    "# obtain and download the tier 1 biocyc database, metacyc\n",
    "# https://biocyc.org/download.shtml\n",
    "METACYC = '<path to metacyc>/eco_meta_cyc_25-5/meta/25.1/data'\n",
    "################################################################\n",
    "\n",
    "# if parser (Callable) returns false, skip\n",
    "def parse(fpath: str, key: str, fields: dict[str, Callable]) -> dict:\n",
    "    file = open(f'{METACYC}/fpath'.replace('//', '/'), encoding='latin-1')\n",
    "\n",
    "    parsed = {}\n",
    "    def pushItem():\n",
    "        nonlocal item\n",
    "        ik = item[key][0]\n",
    "        del item[key]\n",
    "        parsed[ik] = item\n",
    "        item = {}\n",
    "\n",
    "    def addField(f, v):\n",
    "        if not v: return\n",
    "        nonlocal item\n",
    "        if f in item:\n",
    "            data = item[f]\n",
    "            data.append(v)\n",
    "        else:\n",
    "            item[f] = [v]\n",
    "\n",
    "    item = {}\n",
    "    def parseField(entry: str):\n",
    "        tok = entry.split(' - ')\n",
    "        field, value = tok[0], ' - '.join(tok[1:])\n",
    "        \n",
    "        if len(item)>0 and field == key:\n",
    "            pushItem()\n",
    "\n",
    "        if field == key:\n",
    "            addField(field, value[:-1])\n",
    "        elif field in fields:\n",
    "            parser = fields[field]\n",
    "            addField(field, parser(value[:-1]))\n",
    "\n",
    "    entry = ''\n",
    "    while 1:\n",
    "        line = file.readline()\n",
    "        if not line: # end\n",
    "            parseField(entry)\n",
    "            pushItem()\n",
    "            break\n",
    "        if line.startswith('#'): continue\n",
    "        if line.startswith('//'): continue\n",
    "        if not line.startswith('/'):\n",
    "            parseField(entry)\n",
    "            entry = ''\n",
    "\n",
    "        entry += line\n",
    "        \n",
    "    file.close()\n",
    "    return parsed\n",
    "\n",
    "def passfn(x):\n",
    "    return x"
   ]
  },
  {
   "cell_type": "code",
   "execution_count": 11,
   "metadata": {},
   "outputs": [
    {
     "data": {
      "text/plain": [
       "('FERREDOXIN-MONOMER',\n",
       " {'COMMON-NAME': ['reduced ferredoxin'], 'DBLINKS': [['UNIPROT', 'P0A9R4']]})"
      ]
     },
     "execution_count": 11,
     "metadata": {},
     "output_type": "execute_result"
    }
   ],
   "source": [
    "fname = 'proteins.dat'\n",
    "x = parse(fname, 'UNIQUE-ID', {\n",
    "    'DBLINKS': lambda x: x.replace('(', '').replace('\"', '').split(' ')[:2] if x.startswith('(UNIPROT') else False,\n",
    "    'COMMON-NAME': passfn,\n",
    "})\n",
    "np.save('proteins_uniprot', x)\n",
    "list(x)[0], x[list(x)[0]]"
   ]
  },
  {
   "cell_type": "code",
   "execution_count": 41,
   "metadata": {},
   "outputs": [
    {
     "data": {
      "text/plain": [
       "('TRANS-ENZRXN-325',\n",
       " {'COMMON-NAME': ['methionine transport'],\n",
       "  'ENZYME': ['METNIQ-METHIONINE-ABC-CPLX'],\n",
       "  'REACTION': ['TRANS-RXN0-202']})"
      ]
     },
     "execution_count": 41,
     "metadata": {},
     "output_type": "execute_result"
    }
   ],
   "source": [
    "fname = 'enzrxns.dat'\n",
    "x = parse(fname, 'UNIQUE-ID', {\n",
    "    'ENZYME': passfn,\n",
    "    'COMMON-NAME': passfn,\n",
    "    'REACTION': passfn,\n",
    "})\n",
    "np.save('.'.join(fname.split('.')[:-1]), x)\n",
    "list(x)[0], x[list(x)[0]]"
   ]
  },
  {
   "cell_type": "code",
   "execution_count": 33,
   "metadata": {},
   "outputs": [
    {
     "data": {
      "text/plain": [
       "('RXN-13088',\n",
       " {'EC-NUMBER': ['EC-1.4.3.24'],\n",
       "  'ENZYMATIC-REACTION': ['ENZRXN-23736', 'ENZRXN-20031'],\n",
       "  'GIBBS-0': ['-4.6129684'],\n",
       "  'IN-PATHWAY': ['PWY66-201', 'PWY-6993'],\n",
       "  'LEFT': ['CPD-14092', 'OXYGEN-MOLECULE', 'WATER'],\n",
       "  'REACTION-DIRECTION': ['PHYSIOL-LEFT-TO-RIGHT'],\n",
       "  'RIGHT': ['CPD-14100', 'METHYLAMINE', 'HYDROGEN-PEROXIDE']})"
      ]
     },
     "execution_count": 33,
     "metadata": {},
     "output_type": "execute_result"
    }
   ],
   "source": [
    "fname = 'reactions.dat'\n",
    "x = parse(fname, 'UNIQUE-ID', {\n",
    "    'IN-PATHWAY': passfn,\n",
    "    'COMMON-NAME': passfn,\n",
    "    'GIBBS-0': lambda x: x.strip(),\n",
    "    'EC-NUMBER': passfn,\n",
    "    'LEFT': passfn,\n",
    "    'RIGHT': passfn,\n",
    "    'REACTION-DIRECTION': passfn,\n",
    "    'ENZYMATIC-REACTION': passfn,\n",
    "})\n",
    "np.save('.'.join(fname.split('.')[:-1]), x)\n",
    "for k, v in x.items():\n",
    "    if len(v)==7:\n",
    "        break\n",
    "k, v"
   ]
  }
 ],
 "metadata": {
  "interpreter": {
   "hash": "d1dd530d490926bc7a750f617eae0eb50ed85b4bc6333b604eb9c83cc3a853fa"
  },
  "kernelspec": {
   "display_name": "Python 3.9.7 64-bit ('ab48': conda)",
   "language": "python",
   "name": "python3"
  },
  "language_info": {
   "codemirror_mode": {
    "name": "ipython",
    "version": 3
   },
   "file_extension": ".py",
   "mimetype": "text/x-python",
   "name": "python",
   "nbconvert_exporter": "python",
   "pygments_lexer": "ipython3",
   "version": "3.9.7"
  },
  "orig_nbformat": 4
 },
 "nbformat": 4,
 "nbformat_minor": 2
}
